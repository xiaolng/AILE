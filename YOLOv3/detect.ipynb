{
 "cells": [
  {
   "cell_type": "code",
   "execution_count": null,
   "metadata": {},
   "outputs": [],
   "source": [
    "# YOLOv3 检测示例\n",
    "import torch\n",
    "model = torch.hub.load('ultralytics/yolov3', 'yolov3')\n",
    "results = model('your_image.jpg')\n",
    "results.print()"
   ]
  }
 ],
 "metadata": {
  "kernelspec": {
   "display_name": "python3",
   "language": "python",
   "name": "python3"
  }
 },
 "nbformat": 4,
 "nbformat_minor": 5
}
